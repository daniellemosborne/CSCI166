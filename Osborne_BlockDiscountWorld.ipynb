{
  "nbformat": 4,
  "nbformat_minor": 0,
  "metadata": {
    "colab": {
      "provenance": []
    },
    "kernelspec": {
      "name": "python3",
      "display_name": "Python 3"
    },
    "language_info": {
      "name": "python"
    }
  },
  "cells": [
    {
      "cell_type": "markdown",
      "source": [
        "# **Block Discount World**\n",
        "\n",
        "5 State = {a, b, c, d, e}<br>\n",
        "3 Actions = {Left, Right, Exit}<br>\n",
        "Exit available only in a & e.<br>\n",
        "Exit from a yields reward of 10<br>\n",
        "Exit from e yields reward of 1\n",
        "\n",
        "### Parts 1 & 2:\n",
        "*   Calculate Optimum Policy for cases: Transitions are deterministic, 𝛾=1, 𝛾=0.1\n",
        "*   Calculate the value of the sequence of rewards from each of the states under the optimum policy for both previous cases.\n",
        "\n"
      ],
      "metadata": {
        "id": "pkw9jBPH-Ays"
      }
    },
    {
      "cell_type": "code",
      "execution_count": null,
      "metadata": {
        "id": "uvybxc3T0kXn"
      },
      "outputs": [],
      "source": [
        "import numpy as np"
      ]
    },
    {
      "cell_type": "code",
      "source": [
        "# Defining our world\n",
        "class BlockDiscountWorld:\n",
        "  def __init__(self):\n",
        "    self.states = ['a', 'b', 'c', 'd', 'e']\n",
        "    self.actions = ['left', 'right', 'exit']\n",
        "    self.rewards = {'a': 10, 'e': 1}\n",
        "    self.transitions = {\n",
        "        'a': {'left': 'a', 'right': 'b', 'exit': None},\n",
        "        'b': {'left': 'a', 'right': 'c', 'exit': None},\n",
        "        'c': {'left': 'b', 'right': 'd', 'exit': None},\n",
        "        'd': {'left': 'c', 'right': 'e', 'exit': None},\n",
        "        'e': {'left': 'd', 'right': 'e', 'exit': None}\n",
        "  }\n",
        "  def terminal_state(self, state, action):\n",
        "    return action == 'exit'\n",
        "\n",
        "  def get_next_state(self, state, action):\n",
        "    return self.transitions[state][action]\n",
        "\n",
        "  def get_reward(self, state, action):\n",
        "    if action == 'exit' and state in self.rewards:\n",
        "      return self.rewards[state]\n",
        "    return 0"
      ],
      "metadata": {
        "id": "3FHc9xvFOUOS"
      },
      "execution_count": 1,
      "outputs": []
    },
    {
      "cell_type": "code",
      "source": [
        "# Function to calculate the optimal policy\n",
        "def optimal_policy(gamma, world, iterations = 1000):\n",
        "  value = {state: 0 for state in world.states}\n",
        "  policy = {state: None for state in world.states}\n",
        "\n",
        "  for i in range(iterations):\n",
        "    new_value = value.copy()\n",
        "    for state in world.states:\n",
        "      if state in world.rewards:\n",
        "        new_value[state] = world.rewards[state]\n",
        "        policy[state] = 'exit'\n",
        "        continue\n",
        "\n",
        "      max_val = 0\n",
        "      best_action = None\n",
        "\n",
        "      for action in world.actions:\n",
        "        next_state = world.get_next_state(state, action)\n",
        "        reward = world.get_reward(state, action)\n",
        "\n",
        "        if next_state is None:\n",
        "          reward_value = reward\n",
        "        else:\n",
        "          reward_value = reward + gamma * value[next_state]\n",
        "\n",
        "        if reward_value > max_val:\n",
        "          max_val = reward_value\n",
        "          best_action = action\n",
        "\n",
        "      new_value[state] = max_val\n",
        "      policy[state] = best_action\n",
        "\n",
        "    value = new_value\n",
        "\n",
        "  for state in world.states:\n",
        "    if state in world.rewards:\n",
        "      policy[state] = 'exit'\n",
        "      value[state] = world.rewards[state]\n",
        "\n",
        "  return policy, value"
      ],
      "metadata": {
        "id": "Md7wf3jZa7L2"
      },
      "execution_count": 7,
      "outputs": []
    },
    {
      "cell_type": "code",
      "source": [
        "world = BlockDiscountWorld()\n",
        "\n",
        "# Calculating the optimal policy with gamma values g1 = 1, g2 = 0.1\n",
        "g1 = 1\n",
        "g2 = 0.1\n",
        "\n",
        "g1_policy, g1_value = optimal_policy(g1, world)\n",
        "g2_policy, g2_value = optimal_policy(g2, world)\n",
        "\n",
        "# Part 1: Print the optimal policies for gamma values\n",
        "print(\"Optimal Policy when gamma = 1: \", g1_policy)\n",
        "print(\"Optimal Policy when gamma = 0.1: \", g2_policy)\n",
        "\n",
        "# Part 2: Print the rewards\n",
        "print(\"Rewards value when gamma = 1: \", g1_value)\n",
        "print(\"Rewards value when gamma = 0.1: \", g2_value)"
      ],
      "metadata": {
        "colab": {
          "base_uri": "https://localhost:8080/"
        },
        "id": "W5SxFpodicz1",
        "outputId": "c12a8b66-a3cb-47fe-dd7f-bae3cddc57ea"
      },
      "execution_count": 8,
      "outputs": [
        {
          "output_type": "stream",
          "name": "stdout",
          "text": [
            "Optimal Policy when gamma = 1:  {'a': 'exit', 'b': 'left', 'c': 'left', 'd': 'left', 'e': 'exit'}\n",
            "Optimal Policy when gamma = 0.1:  {'a': 'exit', 'b': 'left', 'c': 'left', 'd': 'right', 'e': 'exit'}\n",
            "Rewards value when gamma = 1:  {'a': 10, 'b': 10, 'c': 10, 'd': 10, 'e': 1}\n",
            "Rewards value when gamma = 0.1:  {'a': 10, 'b': 1.0, 'c': 0.1, 'd': 0.1, 'e': 1}\n"
          ]
        }
      ]
    },
    {
      "cell_type": "markdown",
      "source": [
        "# Part 3\n",
        "For which 𝛾, are West and East equally good when in state d?\n",
        "\n",
        "10 * ${x^3}$ = 1 * ${x^1}$<br>\n",
        "10 * ${x^3}$ = x<br>\n",
        "10${x^3}/x$ = 1<br>\n",
        "10${x^2}$ = 1<br>\n",
        "${x^2}$ = 1/10<br>\n",
        "x = .316227<br>\n",
        "\n",
        "In state d, West and East are equally good when 𝛾 = 0.316227\n",
        "\n"
      ],
      "metadata": {
        "id": "K4bkYQtK_erh"
      }
    }
  ]
}
